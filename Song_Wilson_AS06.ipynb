{
 "cells": [
  {
   "cell_type": "code",
   "execution_count": 1,
   "metadata": {},
   "outputs": [],
   "source": [
    "#Wilson Song\n",
    "#Assignment 6\n",
    "\n",
    "\n",
    "#libraries\n",
    "\n",
    "import math\n",
    "import numpy as np\n",
    "import numpy.linalg as la\n",
    "import scipy.linalg as sla\n",
    "\n"
   ]
  },
  {
   "cell_type": "code",
   "execution_count": 2,
   "metadata": {},
   "outputs": [
    {
     "name": "stdout",
     "output_type": "stream",
     "text": [
      "\n",
      "A =\n",
      " [[ 1.  0.  1.]\n",
      " [ 2.  1.  2.]\n",
      " [ 1.  0. -1.]]\n",
      "\n",
      "Shape of A =  (3, 3)\n",
      "\n",
      "Dimensionality of A =  3\n",
      "\n",
      "At =\n",
      " [[ 1.  2.  1.]\n",
      " [ 0.  1.  0.]\n",
      " [ 1.  2. -1.]]\n",
      "\n",
      "Shape of At =  (3, 3)\n",
      "\n",
      "B = \n",
      " [[2.]\n",
      " [0.]\n",
      " [7.]]\n",
      "\n",
      "Shape of B =  (3, 1)\n"
     ]
    }
   ],
   "source": [
    "\n",
    "#setup\n",
    "#Matrix A\n",
    "A = np.array([[1.,0.,1.],[2.,1.,2.],[1.,0.,-1.]])\n",
    "print ('\\nA =\\n',A)\n",
    "print ('\\nShape of A = ',np.shape(A))\n",
    "n = np.shape(A)[0]\n",
    "print ('\\nDimensionality of A = ',n)\n",
    "\n",
    "At = np.transpose(A)\n",
    "print ('\\nAt =\\n',At)\n",
    "print ('\\nShape of At = ',np.shape(At))\n",
    "\n",
    "\n",
    "#column Vector\n",
    "B = np.array([2.,0.,7.])\n",
    "B = B.reshape(3,1)\n",
    "print ('\\nB = \\n',B)\n",
    "print ('\\nShape of B = ',np.shape(B))\n",
    "\n"
   ]
  },
  {
   "cell_type": "code",
   "execution_count": 3,
   "metadata": {},
   "outputs": [
    {
     "name": "stdout",
     "output_type": "stream",
     "text": [
      "\n",
      "A =\n",
      " [[ 1.  0.  1.]\n",
      " [ 2.  1.  2.]\n",
      " [ 1.  0. -1.]]\n",
      "\n",
      "A^-1 =\n",
      " [[ 0.5  0.   0.5]\n",
      " [-2.   1.  -0. ]\n",
      " [ 0.5 -0.  -0.5]]\n"
     ]
    }
   ],
   "source": [
    "# 1  - Calculate A^-1\n",
    "invA = la.inv(A)\n",
    "\n",
    "#2 - print A and A^-1\n",
    "\n",
    "print ('\\nA =\\n',A)\n",
    "print ('\\nA^-1 =\\n',invA)\n"
   ]
  },
  {
   "cell_type": "code",
   "execution_count": 4,
   "metadata": {},
   "outputs": [
    {
     "name": "stdout",
     "output_type": "stream",
     "text": [
      "\n",
      "A * A^-1 =\n",
      " [[1. 0. 0.]\n",
      " [0. 1. 0.]\n",
      " [0. 0. 1.]]\n",
      "\n",
      "A^-1 * A =\n",
      " [[1. 0. 0.]\n",
      " [0. 1. 0.]\n",
      " [0. 0. 1.]]\n"
     ]
    }
   ],
   "source": [
    "#3 - calculate and print AA-1 and A^-1A\n",
    "\n",
    "print ('\\nA * A^-1 =\\n',np.matmul(A , invA))\n",
    "print ('\\nA^-1 * A =\\n',np.matmul(invA , A))"
   ]
  },
  {
   "cell_type": "markdown",
   "metadata": {},
   "source": [
    "When we multiply the Matrix by its inverse, we epect to get the identity matrix which as shown above is true."
   ]
  },
  {
   "cell_type": "code",
   "execution_count": 38,
   "metadata": {},
   "outputs": [
    {
     "name": "stdout",
     "output_type": "stream",
     "text": [
      "\n",
      "Vector norm L0 of B  = \n",
      " 7.280109889280518\n",
      "\n",
      "Vector norm L1 of B  = \n",
      " 9.0\n",
      "\n",
      "Vector norm L2 of B  = \n",
      " 7.280109889280519\n",
      "\n",
      "Vector norm Linf of B  = \n",
      " 7.0\n"
     ]
    }
   ],
   "source": [
    "#4 - Calculate the L0, L1, L2, and Linf vector norms of B\n",
    "print('\\nVector norm L0 of B  = \\n', la.norm(B))\n",
    "print('\\nVector norm L1 of B  = \\n', la.norm(B,1))\n",
    "print('\\nVector norm L2 of B  = \\n', la.norm(B,2))\n",
    "print('\\nVector norm Linf of B  = \\n', la.norm(B,np.inf))"
   ]
  },
  {
   "cell_type": "code",
   "execution_count": 39,
   "metadata": {},
   "outputs": [
    {
     "name": "stdout",
     "output_type": "stream",
     "text": [
      "\n",
      "Vector norm L1 of A  = \n",
      " 4.0\n",
      "\n",
      "Vector norm L2 of A  = \n",
      " 3.2886278151179287\n",
      "\n",
      "Vector norm Linf of A  = \n",
      " 5.0\n"
     ]
    }
   ],
   "source": [
    "#5 - Calculate the L0, L1, L2, and Linf vector norms of A\n",
    "print('\\nVector norm L1 of A  = \\n', la.norm(A,1))\n",
    "print('\\nVector norm L2 of A  = \\n', la.norm(A,2))\n",
    "print('\\nVector norm Linf of A  = \\n', la.norm(A,np.inf))"
   ]
  },
  {
   "cell_type": "code",
   "execution_count": 6,
   "metadata": {},
   "outputs": [
    {
     "name": "stdout",
     "output_type": "stream",
     "text": [
      "\n",
      "Determinant of A = \n",
      " -2.0\n",
      "\n",
      "Determinant of A^-1 = \n",
      " -0.5\n",
      "\n",
      "Det(A)*det(A^-1) = \n",
      " 1.0\n"
     ]
    }
   ],
   "source": [
    "#6 - Calculate and print det(A), det(A^-1), det(A)det(A^-1)\n",
    "\n",
    "det_A=la.det(A)\n",
    "det_invA=la.det(invA)\n",
    "\n",
    "print('\\nDeterminant of A = \\n', det_A)\n",
    "print('\\nDeterminant of A^-1 = \\n', det_invA)\n",
    "print('\\ndet(A)*det(A^-1) = \\n',det_A*det_invA)"
   ]
  },
  {
   "cell_type": "code",
   "execution_count": 8,
   "metadata": {},
   "outputs": [
    {
     "name": "stdout",
     "output_type": "stream",
     "text": [
      "\n",
      "A =\n",
      " [[ 1.  0.  1.]\n",
      " [ 2.  1.  2.]\n",
      " [ 1.  0. -1.]]\n",
      "\n",
      "B = \n",
      " [[2.]\n",
      " [0.]\n",
      " [7.]]\n",
      "\n",
      "X = \n",
      " [[ 4.5]\n",
      " [-4. ]\n",
      " [-2.5]]\n"
     ]
    }
   ],
   "source": [
    "#7 - Solve the system of equations AX=B\n",
    "#8 - Print A,X,and B\n",
    "\n",
    "x_result=la.solve(A,B)\n",
    "print('\\nA =\\n',A)\n",
    "print('\\nB = \\n',B)\n",
    "print('\\nX = \\n',x_result)"
   ]
  },
  {
   "cell_type": "code",
   "execution_count": 10,
   "metadata": {},
   "outputs": [
    {
     "name": "stdout",
     "output_type": "stream",
     "text": [
      "\n",
      "AX = \n",
      " [[2.]\n",
      " [0.]\n",
      " [7.]]\n",
      "\n",
      "B = \n",
      " [[2.]\n",
      " [0.]\n",
      " [7.]]\n",
      "\n",
      "Difference between AX and B = \n",
      " [[0.]\n",
      " [0.]\n",
      " [0.]]\n"
     ]
    }
   ],
   "source": [
    "#9 - Compare AX and B\n",
    "AX = np.matmul(A,x_result)\n",
    "\n",
    "print('\\nAX = \\n',AX)\n",
    "print('\\nB = \\n',B)\n",
    "print('\\nDifference between AX and B = \\n',AX-B)\n"
   ]
  },
  {
   "cell_type": "markdown",
   "metadata": {},
   "source": [
    "We expect to get AX=B which is indeed what we get here."
   ]
  },
  {
   "cell_type": "code",
   "execution_count": 15,
   "metadata": {},
   "outputs": [
    {
     "name": "stdout",
     "output_type": "stream",
     "text": [
      "\n",
      "Eigenvalues of A = \n",
      " [ 1.          1.41421356 -1.41421356]\n",
      "\n",
      "Eigenvectors of A = \n",
      " [[ 0.          0.14464074 -0.34919364]\n",
      " [ 1.          0.98766876 -0.4091058 ]\n",
      " [ 0.          0.05991216  0.84302802]]\n"
     ]
    }
   ],
   "source": [
    "#10 - Calculate and print the eigenvalues and eigenvectors of A\n",
    "eigen_values,eigen_vector = la.eig(A)\n",
    "print('\\nEigenvalues of A = \\n',eigen_values)\n",
    "print('\\nEigenvectors of A = \\n',eigen_vector)"
   ]
  },
  {
   "cell_type": "code",
   "execution_count": 53,
   "metadata": {},
   "outputs": [
    {
     "name": "stdout",
     "output_type": "stream",
     "text": [
      "\n",
      "Matrix A * Eigenvector(i=0) = \n",
      " [[ 0.  0.  0.]\n",
      " [ 2.  1.  2.]\n",
      " [ 0.  0. -0.]]\n",
      "\n",
      "Eigenvalues(i=0) * Eigenvector(i=0) = \n",
      " [[0]\n",
      " [1]\n",
      " [0]]\n",
      "\n",
      "Matrix A * Eigenvector(i=1) = \n",
      " [[-0.34919364 -0.          0.84302802]\n",
      " [-0.69838728 -0.4091058   1.68605604]\n",
      " [-0.34919364 -0.         -0.84302802]]\n",
      "\n",
      "Eigenvalues(i=1) * Eigenvector(i=1) = \n",
      " [-0.49383438 -0.57856297  1.19222166]\n",
      "\n",
      "Matrix A * Eigenvector(i=2) = \n",
      " [[ 0.  0.  0.]\n",
      " [ 2.  1.  2.]\n",
      " [ 0.  0. -0.]]\n",
      "\n",
      "Eigenvalues(i=2) * Eigenvector(i=2) = \n",
      " [[-0.        ]\n",
      " [-1.41421356]\n",
      " [-0.        ]]\n"
     ]
    }
   ],
   "source": [
    "#11 - Show that A*eigenvector=eigenvalues*eigenvector\n",
    "eigenvalue_0=np.array([1])\n",
    "eigenvalue_1=np.array([1.41421356])\n",
    "eigenvalue_2=np.array([-1.41421356])\n",
    "\n",
    "eigenvector_0=np.array([0,1,0])\n",
    "eigenvector_0=eigenvector_0.reshape(3,1)\n",
    "\n",
    "eigenvector_1=np.array([0.14464074, 0.98766876, 0.98766876])\n",
    "eigenvector_2=eigenvector_0.reshape(3,1)\n",
    "\n",
    "eigenvector_1=np.array([-0.34919364,-0.4091058,0.84302802])\n",
    "eigenvector_2=eigenvector_0.reshape(3,1)\n",
    "\n",
    "print('\\nMatrix A * Eigenvector(i=0) = \\n',A*eigenvector_0)\n",
    "print('\\nEigenvalues(i=0) * Eigenvector(i=0) = \\n',eigenvalue_0*eigenvector_0)\n",
    "print('\\nMatrix A * Eigenvector(i=1) = \\n',A*eigenvector_1)\n",
    "print('\\nEigenvalues(i=1) * Eigenvector(i=1) = \\n',eigenvalue_1*eigenvector_1)\n",
    "print('\\nMatrix A * Eigenvector(i=2) = \\n',A*eigenvector_2)\n",
    "print('\\nEigenvalues(i=2) * Eigenvector(i=2) = \\n',eigenvalue_2*eigenvector_2)"
   ]
  },
  {
   "cell_type": "code",
   "execution_count": 56,
   "metadata": {},
   "outputs": [
    {
     "name": "stdout",
     "output_type": "stream",
     "text": [
      "\n",
      "Spectral Radius of Matrix A =\n",
      " 1.4142135623730951\n"
     ]
    }
   ],
   "source": [
    "#12 - Calculate and print the spectral radius of A.\n",
    "\n",
    "#spectral radius of a matrix is the maximum of the modulus of its eigenvalues\n",
    "spectral_radius = max(abs(eigen_values))\n",
    "print(\"\\nSpectral Radius of Matrix A =\\n\",spectral_radius)"
   ]
  },
  {
   "cell_type": "code",
   "execution_count": 31,
   "metadata": {},
   "outputs": [
    {
     "name": "stdout",
     "output_type": "stream",
     "text": [
      "\n",
      "P = \n",
      " [[0. 1. 0.]\n",
      " [1. 0. 0.]\n",
      " [0. 0. 1.]]\n",
      "\n",
      "L = \n",
      " [[1.  0.  0. ]\n",
      " [0.5 1.  0. ]\n",
      " [0.5 1.  1. ]]\n",
      "\n",
      "U = \n",
      " [[ 2.   1.   2. ]\n",
      " [ 0.  -0.5  0. ]\n",
      " [ 0.   0.  -2. ]]\n",
      "\n",
      "A =\n",
      " [[ 1.  0.  1.]\n",
      " [ 2.  1.  2.]\n",
      " [ 1.  0. -1.]]\n",
      "\n",
      "PLU =\n",
      " [[ 1.  0.  1.]\n",
      " [ 2.  1.  2.]\n",
      " [ 1.  0. -1.]]\n"
     ]
    }
   ],
   "source": [
    "#13 - Detemine the LU decomposition of A such that A=PLU \n",
    "#14 - Print A,P,L,U\n",
    "\n",
    "P,L,U=sla.lu(A)\n",
    "print('\\nP = \\n',P)\n",
    "print('\\nL = \\n',L)\n",
    "print('\\nU = \\n',U)\n",
    "PL= np.matmul(P,L)\n",
    "PLU=np.matmul(PL,U)\n",
    "print ('\\nA =\\n',A)\n",
    "print ('\\nPLU =\\n',PLU)"
   ]
  },
  {
   "cell_type": "markdown",
   "metadata": {},
   "source": [
    "P represents the permutation matrix\n",
    "L represents the lower triangular matrix and\n",
    "U represents the upper traignular marix\n",
    "We expect to get A=PLU which is true."
   ]
  },
  {
   "cell_type": "code",
   "execution_count": null,
   "metadata": {},
   "outputs": [],
   "source": []
  }
 ],
 "metadata": {
  "kernelspec": {
   "display_name": "Python 3",
   "language": "python",
   "name": "python3"
  },
  "language_info": {
   "codemirror_mode": {
    "name": "ipython",
    "version": 3
   },
   "file_extension": ".py",
   "mimetype": "text/x-python",
   "name": "python",
   "nbconvert_exporter": "python",
   "pygments_lexer": "ipython3",
   "version": "3.7.3"
  }
 },
 "nbformat": 4,
 "nbformat_minor": 2
}
