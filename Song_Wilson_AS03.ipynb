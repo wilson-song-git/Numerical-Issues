{
 "cells": [
  {
   "cell_type": "code",
   "execution_count": 13,
   "metadata": {
    "scrolled": true
   },
   "outputs": [
    {
     "name": "stdout",
     "output_type": "stream",
     "text": [
      "Naive Summation of N^6 is: 2718281.828467976. Time taken is: 0.15502595901489258\n",
      "N^6: The Absolute Error is 8.930917829275131e-06 and the Relative Error is 3.2855010601818064e-12\n",
      "Naive Summation of N^7 is: 27182818.280961137. Time taken is: 1.7413990497589111\n",
      "N^7: The Absolute Error is 0.0036293119192123413 and the Relative Error is 1.335149240676691e-10\n",
      "Naive Summation of N^8 is: 271828183.31291556. Time taken is: 14.703012943267822\n",
      "N^8: The Absolute Error is 0.467011034488678 and the Relative Error is 1.7180375838859204e-09\n",
      "Naive Summation of N^9 is: 2718281783.988457. Time taken is: 200.3285539150238\n",
      "N^9: The Absolute Error is 44.470587730407715 and the Relative Error is 1.6359814962827992e-08\n",
      "Compensated Summation of N^6 is: 2718281.828459045. Time taken is: 0.29715800285339355 seconds.\n",
      "N^6: The Absolute Error is 0.0 and the Relative Error is 0.0\n",
      "Compensated Summation of N^7 is: 27182818.28459045. Time taken is: 3.1064341068267822 seconds.\n",
      "N^7: The Absolute Error is 0.0 and the Relative Error is 0.0\n",
      "Compensated Summation of N^8 is: 271828182.8459045. Time taken is: 37.43103885650635 seconds.\n",
      "N^8: The Absolute Error is 0.0 and the Relative Error is 0.0\n",
      "Compensated Summation of N^9 is: 2718281828.459045. Time taken is: 345.9846429824829 seconds.\n",
      "N^9: The Absolute Error is 0.0 and the Relative Error is 0.0\n"
     ]
    }
   ],
   "source": [
    "import math\n",
    "import time\n",
    "\n",
    "#the different trials we are using\n",
    "\n",
    "\n",
    "#Calculate naive summation\n",
    "def naive_summation(n):\n",
    "    N=10**n\n",
    "    nsum=0\n",
    "    for i in range(0,N):\n",
    "        nsum +=math.e\n",
    "    return nsum\n",
    "\n",
    "#Calculate compensated summation\n",
    "def compensated_summation(n):\n",
    "    N=10**n\n",
    "    csum=0\n",
    "    e=0\n",
    "    for i in range(0,N):\n",
    "        temp=csum\n",
    "        y=math.e+e\n",
    "        csum=temp+y\n",
    "        e=(temp-csum)+y\n",
    "    csum+=e\n",
    "    return csum\n",
    "\n",
    "#calculates the time and summation->then prints\n",
    "def naive_summation_time(n):\n",
    "    start_time = time.time()\n",
    "    nsum=naive_summation(n)#calculates the naive sum\n",
    "    end_time = time.time()\n",
    "    elasped_time = end_time-start_time\n",
    "    print('Naive Summation of N^'+str(n)+' is: '+str(nsum)+'. Time taken is: '+str(elasped_time))#prints everythng\n",
    "    return nsum\n",
    "\n",
    "#calculates the time and summation->then prints\n",
    "def compensated_summation_time(n):\n",
    "    start_time = time.time() #starts time\n",
    "    csum=compensated_summation(n) #calculates the compensated sum\n",
    "    end_time = time.time() # end time\n",
    "    elasped_time = end_time-start_time #calculate the elasped time\n",
    "    print('Compensated Summation of N^'+str(n)+' is: '+str(csum)+'. Time taken is: '+str(elasped_time)+\" seconds.\")#prints everythng\n",
    "    return csum\n",
    "    \n",
    "#Calculate the Exact value\n",
    "def exact_value(n):\n",
    "    N=10**n\n",
    "    result=N*math.e\n",
    "    return result\n",
    "\n",
    "#Calculate absolute error \n",
    "def absolute_error(approx,exact):\n",
    "    result= math.fabs(approx - exact) \n",
    "    return result\n",
    "\n",
    "#Calculate relative error\n",
    "def relative_error(approx,exact):\n",
    "    result=math.fabs(approx-exact)/math.fabs(exact)\n",
    "    return result\n",
    "\n",
    "#calculate the exact sums\n",
    "esum6=exact_value(6)\n",
    "esum7=exact_value(7)\n",
    "esum8=exact_value(8)\n",
    "esum9=exact_value(9)\n",
    "\n",
    "#calculate the naive sum\n",
    "nsum6=naive_summation_time(6)\n",
    "print('N^6: The Absolute Error is '+str(absolute_error(nsum6,esum6))+' and the Relative Error is '+str(relative_error(nsum6,esum6)))\n",
    "\n",
    "nsum7 = naive_summation_time(7)\n",
    "print('N^7: The Absolute Error is '+str(absolute_error(nsum7,esum7))+' and the Relative Error is '+str(relative_error(nsum7,esum7)))\n",
    "\n",
    "nsum8=naive_summation_time(8)\n",
    "print('N^8: The Absolute Error is '+str(absolute_error(nsum8,esum8))+' and the Relative Error is '+str(relative_error(nsum8,esum8)))\n",
    "\n",
    "nsum9=naive_summation_time(9)\n",
    "print('N^9: The Absolute Error is '+str(absolute_error(nsum9,esum9))+' and the Relative Error is '+str(relative_error(nsum9,esum9)))\n",
    "\n",
    "#calculate the compensated sum\n",
    "csum6=compensated_summation_time(6)\n",
    "print('N^6: The Absolute Error is '+str(absolute_error(csum6,esum6))+' and the Relative Error is '+str(relative_error(csum6,esum6)))\n",
    "\n",
    "csum7=compensated_summation_time(7)\n",
    "print('N^7: The Absolute Error is '+str(absolute_error(csum7,esum7))+' and the Relative Error is '+str(relative_error(csum7,esum7)))\n",
    "\n",
    "csum8=compensated_summation_time(8)\n",
    "print('N^8: The Absolute Error is '+str(absolute_error(csum8,esum8))+' and the Relative Error is '+str(relative_error(csum8,esum8)))\n",
    "csum9=compensated_summation_time(9)\n",
    "print('N^9: The Absolute Error is '+str(absolute_error(csum9,esum9))+' and the Relative Error is '+str(relative_error(csum9,esum9)))\n"
   ]
  },
  {
   "cell_type": "markdown",
   "metadata": {},
   "source": [
    "# |N^n|Naive Summation|Time Taken|Compensenated Summation|Time Taken|Absolute Error-Naive|Relative Error-Naive|Absolute Error-Compensated|Relative Error-Compensated|\n",
    "|---|---|---|---|---|---|---|---|---|\n",
    "|10^6|2718281.828467976|0.15502595901489258|2718281.828459045|0.29715800285339355|8.930917829275131e-06|3.2855010601818064e-12|0.0|0.0|\n",
    "|10^7|27182818.280961137|1.7413990497589111|27182818.28459045|3.1064341068267822|0.0036293119192123413|1.335149240676691e-10|0.0|0.0|\n",
    "|10^8|271828183.31291556|14.703012943267822|271828182.8459045|37.43103885650635|0.467011034488678|1.7180375838859204e-09|0.0|0.0|\n",
    "|10^9|2718281783.988457|200.3285539150238|2718281828.459045|345.9846429824829|44.470587730407715|1.6359814962827992e-08|0.0|0.0|"
   ]
  },
  {
   "cell_type": "raw",
   "metadata": {},
   "source": [
    "The results found here are consistent with the expressions for errors that we discussed in class. From our results and tests, we can see that the error is reduced to basically 0.0 when we are using the compensated summation. This is what we expected from using compensated summation which should give a result accurate to the exact value."
   ]
  },
  {
   "cell_type": "code",
   "execution_count": null,
   "metadata": {},
   "outputs": [],
   "source": []
  }
 ],
 "metadata": {
  "kernelspec": {
   "display_name": "Python 3",
   "language": "python",
   "name": "python3"
  },
  "language_info": {
   "codemirror_mode": {
    "name": "ipython",
    "version": 3
   },
   "file_extension": ".py",
   "mimetype": "text/x-python",
   "name": "python",
   "nbconvert_exporter": "python",
   "pygments_lexer": "ipython3",
   "version": "3.7.3"
  }
 },
 "nbformat": 4,
 "nbformat_minor": 2
}
